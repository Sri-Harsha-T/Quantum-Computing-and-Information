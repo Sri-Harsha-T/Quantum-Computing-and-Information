{
 "cells": [
  {
   "cell_type": "code",
   "execution_count": 2,
   "id": "southeast-brunei",
   "metadata": {},
   "outputs": [
    {
     "name": "stdout",
     "output_type": "stream",
     "text": [
      "Requirement already satisfied: qiskit in c:\\users\\sriha\\appdata\\local\\programs\\python\\python39\\lib\\site-packages (0.37.0)\n",
      "Requirement already satisfied: qiskit-terra==0.21.0 in c:\\users\\sriha\\appdata\\local\\programs\\python\\python39\\lib\\site-packages (from qiskit) (0.21.0)\n",
      "Requirement already satisfied: qiskit-aer==0.10.4 in c:\\users\\sriha\\appdata\\local\\programs\\python\\python39\\lib\\site-packages (from qiskit) (0.10.4)\n",
      "Requirement already satisfied: qiskit-ibmq-provider==0.19.2 in c:\\users\\sriha\\appdata\\local\\programs\\python\\python39\\lib\\site-packages (from qiskit) (0.19.2)\n",
      "Requirement already satisfied: scipy>=1.0 in c:\\users\\sriha\\appdata\\local\\programs\\python\\python39\\lib\\site-packages (from qiskit-aer==0.10.4->qiskit) (1.7.0)\n",
      "Requirement already satisfied: numpy>=1.16.3 in c:\\users\\sriha\\appdata\\local\\programs\\python\\python39\\lib\\site-packages (from qiskit-aer==0.10.4->qiskit) (1.21.0)\n",
      "Requirement already satisfied: requests-ntlm>=1.1.0 in c:\\users\\sriha\\appdata\\local\\programs\\python\\python39\\lib\\site-packages (from qiskit-ibmq-provider==0.19.2->qiskit) (1.1.0)\n",
      "Requirement already satisfied: requests>=2.19 in c:\\users\\sriha\\appdata\\local\\programs\\python\\python39\\lib\\site-packages (from qiskit-ibmq-provider==0.19.2->qiskit) (2.25.1)\n",
      "Requirement already satisfied: websocket-client>=1.0.1 in c:\\users\\sriha\\appdata\\local\\programs\\python\\python39\\lib\\site-packages (from qiskit-ibmq-provider==0.19.2->qiskit) (1.3.3)\n",
      "Requirement already satisfied: websockets>=10.0 in c:\\users\\sriha\\appdata\\local\\programs\\python\\python39\\lib\\site-packages (from qiskit-ibmq-provider==0.19.2->qiskit) (10.3)\n",
      "Requirement already satisfied: urllib3>=1.21.1 in c:\\users\\sriha\\appdata\\local\\programs\\python\\python39\\lib\\site-packages (from qiskit-ibmq-provider==0.19.2->qiskit) (1.26.6)\n",
      "Requirement already satisfied: python-dateutil>=2.8.0 in c:\\users\\sriha\\appdata\\local\\programs\\python\\python39\\lib\\site-packages (from qiskit-ibmq-provider==0.19.2->qiskit) (2.8.1)\n",
      "Requirement already satisfied: ply>=3.10 in c:\\users\\sriha\\appdata\\local\\programs\\python\\python39\\lib\\site-packages (from qiskit-terra==0.21.0->qiskit) (3.11)\n",
      "Requirement already satisfied: tweedledum<2.0,>=1.1 in c:\\users\\sriha\\appdata\\local\\programs\\python\\python39\\lib\\site-packages (from qiskit-terra==0.21.0->qiskit) (1.1.1)\n",
      "Requirement already satisfied: psutil>=5 in c:\\users\\sriha\\appdata\\local\\programs\\python\\python39\\lib\\site-packages (from qiskit-terra==0.21.0->qiskit) (5.8.0)\n",
      "Requirement already satisfied: stevedore>=3.0.0 in c:\\users\\sriha\\appdata\\local\\programs\\python\\python39\\lib\\site-packages (from qiskit-terra==0.21.0->qiskit) (3.5.0)\n",
      "Requirement already satisfied: sympy>=1.3 in c:\\users\\sriha\\appdata\\local\\programs\\python\\python39\\lib\\site-packages (from qiskit-terra==0.21.0->qiskit) (1.10.1)\n",
      "Requirement already satisfied: dill>=0.3 in c:\\users\\sriha\\appdata\\local\\programs\\python\\python39\\lib\\site-packages (from qiskit-terra==0.21.0->qiskit) (0.3.5.1)\n",
      "Requirement already satisfied: retworkx>=0.11.0 in c:\\users\\sriha\\appdata\\local\\programs\\python\\python39\\lib\\site-packages (from qiskit-terra==0.21.0->qiskit) (0.11.0)\n",
      "Requirement already satisfied: six>=1.5 in c:\\users\\sriha\\appdata\\local\\programs\\python\\python39\\lib\\site-packages (from python-dateutil>=2.8.0->qiskit-ibmq-provider==0.19.2->qiskit) (1.15.0)\n",
      "Requirement already satisfied: idna<3,>=2.5 in c:\\users\\sriha\\appdata\\local\\programs\\python\\python39\\lib\\site-packages (from requests>=2.19->qiskit-ibmq-provider==0.19.2->qiskit) (2.10)\n",
      "Requirement already satisfied: chardet<5,>=3.0.2 in c:\\users\\sriha\\appdata\\local\\programs\\python\\python39\\lib\\site-packages (from requests>=2.19->qiskit-ibmq-provider==0.19.2->qiskit) (4.0.0)\n",
      "Requirement already satisfied: certifi>=2017.4.17 in c:\\users\\sriha\\appdata\\local\\programs\\python\\python39\\lib\\site-packages (from requests>=2.19->qiskit-ibmq-provider==0.19.2->qiskit) (2021.5.30)\n",
      "Requirement already satisfied: ntlm-auth>=1.0.2 in c:\\users\\sriha\\appdata\\local\\programs\\python\\python39\\lib\\site-packages (from requests-ntlm>=1.1.0->qiskit-ibmq-provider==0.19.2->qiskit) (1.5.0)\n",
      "Requirement already satisfied: cryptography>=1.3 in c:\\users\\sriha\\appdata\\local\\programs\\python\\python39\\lib\\site-packages (from requests-ntlm>=1.1.0->qiskit-ibmq-provider==0.19.2->qiskit) (36.0.0)\n",
      "Requirement already satisfied: pbr!=2.1.0,>=2.0.0 in c:\\users\\sriha\\appdata\\local\\programs\\python\\python39\\lib\\site-packages (from stevedore>=3.0.0->qiskit-terra==0.21.0->qiskit) (5.9.0)\n",
      "Requirement already satisfied: mpmath>=0.19 in c:\\users\\sriha\\appdata\\local\\programs\\python\\python39\\lib\\site-packages (from sympy>=1.3->qiskit-terra==0.21.0->qiskit) (1.2.1)\n",
      "Requirement already satisfied: cffi>=1.12 in c:\\users\\sriha\\appdata\\local\\programs\\python\\python39\\lib\\site-packages (from cryptography>=1.3->requests-ntlm>=1.1.0->qiskit-ibmq-provider==0.19.2->qiskit) (1.14.5)\n",
      "Requirement already satisfied: pycparser in c:\\users\\sriha\\appdata\\local\\programs\\python\\python39\\lib\\site-packages (from cffi>=1.12->cryptography>=1.3->requests-ntlm>=1.1.0->qiskit-ibmq-provider==0.19.2->qiskit) (2.20)\n"
     ]
    },
    {
     "name": "stderr",
     "output_type": "stream",
     "text": [
      "WARNING: You are using pip version 22.0.3; however, version 22.1.2 is available.\n",
      "You should consider upgrading via the 'c:\\users\\sriha\\appdata\\local\\programs\\python\\python39\\python.exe -m pip install --upgrade pip' command.\n"
     ]
    }
   ],
   "source": [
    "import sys\n",
    "!{sys.executable} -m pip install qiskit"
   ]
  },
  {
   "cell_type": "code",
   "execution_count": 6,
   "id": "latin-therapy",
   "metadata": {},
   "outputs": [
    {
     "name": "stdout",
     "output_type": "stream",
     "text": [
      "Collecting git+https://github.com/qiskit-community/qiskit-textbook.git#subdirectory=qiskit-textbook-src\n",
      "  Cloning https://github.com/qiskit-community/qiskit-textbook.git to c:\\users\\sriha\\appdata\\local\\temp\\pip-req-build-w7cfjl80\n",
      "  Resolved https://github.com/qiskit-community/qiskit-textbook.git to commit 3b9e10f65dd80f1d8afbf206221f100297c05350\n",
      "  Preparing metadata (setup.py): started"
     ]
    },
    {
     "name": "stderr",
     "output_type": "stream",
     "text": [
      "  Running command git clone --filter=blob:none --quiet https://github.com/qiskit-community/qiskit-textbook.git 'C:\\Users\\sriha\\AppData\\Local\\Temp\\pip-req-build-w7cfjl80'\n",
      "WARNING: You are using pip version 22.0.3; however, version 22.1.2 is available.\n",
      "You should consider upgrading via the 'c:\\users\\sriha\\appdata\\local\\programs\\python\\python39\\python.exe -m pip install --upgrade pip' command.\n"
     ]
    },
    {
     "name": "stdout",
     "output_type": "stream",
     "text": [
      "\n",
      "  Preparing metadata (setup.py): finished with status 'done'\n",
      "Requirement already satisfied: qiskit in c:\\users\\sriha\\appdata\\local\\programs\\python\\python39\\lib\\site-packages (from qiskit-textbook==0.1.0) (0.37.0)\n",
      "Requirement already satisfied: ipython in c:\\users\\sriha\\appdata\\local\\programs\\python\\python39\\lib\\site-packages (from qiskit-textbook==0.1.0) (7.22.0)\n",
      "Requirement already satisfied: ipywidgets in c:\\users\\sriha\\appdata\\local\\programs\\python\\python39\\lib\\site-packages (from qiskit-textbook==0.1.0) (7.6.3)\n",
      "Requirement already satisfied: numpy in c:\\users\\sriha\\appdata\\local\\programs\\python\\python39\\lib\\site-packages (from qiskit-textbook==0.1.0) (1.21.0)\n",
      "Requirement already satisfied: matplotlib in c:\\users\\sriha\\appdata\\local\\programs\\python\\python39\\lib\\site-packages (from qiskit-textbook==0.1.0) (3.4.2)\n",
      "Requirement already satisfied: setuptools>=18.5 in c:\\users\\sriha\\appdata\\local\\programs\\python\\python39\\lib\\site-packages (from ipython->qiskit-textbook==0.1.0) (49.2.1)\n",
      "Requirement already satisfied: pickleshare in c:\\users\\sriha\\appdata\\local\\programs\\python\\python39\\lib\\site-packages (from ipython->qiskit-textbook==0.1.0) (0.7.5)\n",
      "Requirement already satisfied: backcall in c:\\users\\sriha\\appdata\\local\\programs\\python\\python39\\lib\\site-packages (from ipython->qiskit-textbook==0.1.0) (0.2.0)\n",
      "Requirement already satisfied: jedi>=0.16 in c:\\users\\sriha\\appdata\\local\\programs\\python\\python39\\lib\\site-packages (from ipython->qiskit-textbook==0.1.0) (0.18.0)\n",
      "Requirement already satisfied: prompt-toolkit!=3.0.0,!=3.0.1,<3.1.0,>=2.0.0 in c:\\users\\sriha\\appdata\\local\\programs\\python\\python39\\lib\\site-packages (from ipython->qiskit-textbook==0.1.0) (3.0.18)\n",
      "Requirement already satisfied: colorama in c:\\users\\sriha\\appdata\\local\\programs\\python\\python39\\lib\\site-packages (from ipython->qiskit-textbook==0.1.0) (0.4.4)\n",
      "Requirement already satisfied: pygments in c:\\users\\sriha\\appdata\\local\\programs\\python\\python39\\lib\\site-packages (from ipython->qiskit-textbook==0.1.0) (2.8.1)\n",
      "Requirement already satisfied: decorator in c:\\users\\sriha\\appdata\\local\\programs\\python\\python39\\lib\\site-packages (from ipython->qiskit-textbook==0.1.0) (4.4.2)\n",
      "Requirement already satisfied: traitlets>=4.2 in c:\\users\\sriha\\appdata\\local\\programs\\python\\python39\\lib\\site-packages (from ipython->qiskit-textbook==0.1.0) (5.0.5)\n",
      "Requirement already satisfied: widgetsnbextension~=3.5.0 in c:\\users\\sriha\\appdata\\local\\programs\\python\\python39\\lib\\site-packages (from ipywidgets->qiskit-textbook==0.1.0) (3.5.1)\n",
      "Requirement already satisfied: jupyterlab-widgets>=1.0.0 in c:\\users\\sriha\\appdata\\local\\programs\\python\\python39\\lib\\site-packages (from ipywidgets->qiskit-textbook==0.1.0) (1.0.0)\n",
      "Requirement already satisfied: nbformat>=4.2.0 in c:\\users\\sriha\\appdata\\local\\programs\\python\\python39\\lib\\site-packages (from ipywidgets->qiskit-textbook==0.1.0) (5.1.2)\n",
      "Requirement already satisfied: ipykernel>=4.5.1 in c:\\users\\sriha\\appdata\\local\\programs\\python\\python39\\lib\\site-packages (from ipywidgets->qiskit-textbook==0.1.0) (5.5.0)\n",
      "Requirement already satisfied: pillow>=6.2.0 in c:\\users\\sriha\\appdata\\local\\programs\\python\\python39\\lib\\site-packages (from matplotlib->qiskit-textbook==0.1.0) (8.3.1)\n",
      "Requirement already satisfied: pyparsing>=2.2.1 in c:\\users\\sriha\\appdata\\local\\programs\\python\\python39\\lib\\site-packages (from matplotlib->qiskit-textbook==0.1.0) (2.4.7)\n",
      "Requirement already satisfied: kiwisolver>=1.0.1 in c:\\users\\sriha\\appdata\\local\\programs\\python\\python39\\lib\\site-packages (from matplotlib->qiskit-textbook==0.1.0) (1.3.1)\n",
      "Requirement already satisfied: python-dateutil>=2.7 in c:\\users\\sriha\\appdata\\local\\programs\\python\\python39\\lib\\site-packages (from matplotlib->qiskit-textbook==0.1.0) (2.8.1)\n",
      "Requirement already satisfied: cycler>=0.10 in c:\\users\\sriha\\appdata\\local\\programs\\python\\python39\\lib\\site-packages (from matplotlib->qiskit-textbook==0.1.0) (0.10.0)\n",
      "Requirement already satisfied: qiskit-terra==0.21.0 in c:\\users\\sriha\\appdata\\local\\programs\\python\\python39\\lib\\site-packages (from qiskit->qiskit-textbook==0.1.0) (0.21.0)\n",
      "Requirement already satisfied: qiskit-aer==0.10.4 in c:\\users\\sriha\\appdata\\local\\programs\\python\\python39\\lib\\site-packages (from qiskit->qiskit-textbook==0.1.0) (0.10.4)\n",
      "Requirement already satisfied: qiskit-ibmq-provider==0.19.2 in c:\\users\\sriha\\appdata\\local\\programs\\python\\python39\\lib\\site-packages (from qiskit->qiskit-textbook==0.1.0) (0.19.2)\n",
      "Requirement already satisfied: scipy>=1.0 in c:\\users\\sriha\\appdata\\local\\programs\\python\\python39\\lib\\site-packages (from qiskit-aer==0.10.4->qiskit->qiskit-textbook==0.1.0) (1.7.0)\n",
      "Requirement already satisfied: websocket-client>=1.0.1 in c:\\users\\sriha\\appdata\\local\\programs\\python\\python39\\lib\\site-packages (from qiskit-ibmq-provider==0.19.2->qiskit->qiskit-textbook==0.1.0) (1.3.3)\n",
      "Requirement already satisfied: urllib3>=1.21.1 in c:\\users\\sriha\\appdata\\local\\programs\\python\\python39\\lib\\site-packages (from qiskit-ibmq-provider==0.19.2->qiskit->qiskit-textbook==0.1.0) (1.26.6)\n",
      "Requirement already satisfied: websockets>=10.0 in c:\\users\\sriha\\appdata\\local\\programs\\python\\python39\\lib\\site-packages (from qiskit-ibmq-provider==0.19.2->qiskit->qiskit-textbook==0.1.0) (10.3)\n",
      "Requirement already satisfied: requests>=2.19 in c:\\users\\sriha\\appdata\\local\\programs\\python\\python39\\lib\\site-packages (from qiskit-ibmq-provider==0.19.2->qiskit->qiskit-textbook==0.1.0) (2.25.1)\n",
      "Requirement already satisfied: requests-ntlm>=1.1.0 in c:\\users\\sriha\\appdata\\local\\programs\\python\\python39\\lib\\site-packages (from qiskit-ibmq-provider==0.19.2->qiskit->qiskit-textbook==0.1.0) (1.1.0)\n",
      "Requirement already satisfied: ply>=3.10 in c:\\users\\sriha\\appdata\\local\\programs\\python\\python39\\lib\\site-packages (from qiskit-terra==0.21.0->qiskit->qiskit-textbook==0.1.0) (3.11)\n",
      "Requirement already satisfied: sympy>=1.3 in c:\\users\\sriha\\appdata\\local\\programs\\python\\python39\\lib\\site-packages (from qiskit-terra==0.21.0->qiskit->qiskit-textbook==0.1.0) (1.10.1)\n",
      "Requirement already satisfied: tweedledum<2.0,>=1.1 in c:\\users\\sriha\\appdata\\local\\programs\\python\\python39\\lib\\site-packages (from qiskit-terra==0.21.0->qiskit->qiskit-textbook==0.1.0) (1.1.1)\n",
      "Requirement already satisfied: stevedore>=3.0.0 in c:\\users\\sriha\\appdata\\local\\programs\\python\\python39\\lib\\site-packages (from qiskit-terra==0.21.0->qiskit->qiskit-textbook==0.1.0) (3.5.0)\n",
      "Requirement already satisfied: dill>=0.3 in c:\\users\\sriha\\appdata\\local\\programs\\python\\python39\\lib\\site-packages (from qiskit-terra==0.21.0->qiskit->qiskit-textbook==0.1.0) (0.3.5.1)\n",
      "Requirement already satisfied: retworkx>=0.11.0 in c:\\users\\sriha\\appdata\\local\\programs\\python\\python39\\lib\\site-packages (from qiskit-terra==0.21.0->qiskit->qiskit-textbook==0.1.0) (0.11.0)\n",
      "Requirement already satisfied: psutil>=5 in c:\\users\\sriha\\appdata\\local\\programs\\python\\python39\\lib\\site-packages (from qiskit-terra==0.21.0->qiskit->qiskit-textbook==0.1.0) (5.8.0)\n",
      "Requirement already satisfied: six in c:\\users\\sriha\\appdata\\local\\programs\\python\\python39\\lib\\site-packages (from cycler>=0.10->matplotlib->qiskit-textbook==0.1.0) (1.15.0)\n",
      "Requirement already satisfied: jupyter-client in c:\\users\\sriha\\appdata\\local\\programs\\python\\python39\\lib\\site-packages (from ipykernel>=4.5.1->ipywidgets->qiskit-textbook==0.1.0) (6.1.12)\n",
      "Requirement already satisfied: tornado>=4.2 in c:\\users\\sriha\\appdata\\local\\programs\\python\\python39\\lib\\site-packages (from ipykernel>=4.5.1->ipywidgets->qiskit-textbook==0.1.0) (6.1)\n",
      "Requirement already satisfied: parso<0.9.0,>=0.8.0 in c:\\users\\sriha\\appdata\\local\\programs\\python\\python39\\lib\\site-packages (from jedi>=0.16->ipython->qiskit-textbook==0.1.0) (0.8.1)\n",
      "Requirement already satisfied: jupyter-core in c:\\users\\sriha\\appdata\\local\\programs\\python\\python39\\lib\\site-packages (from nbformat>=4.2.0->ipywidgets->qiskit-textbook==0.1.0) (4.7.1)\n",
      "Requirement already satisfied: ipython-genutils in c:\\users\\sriha\\appdata\\local\\programs\\python\\python39\\lib\\site-packages (from nbformat>=4.2.0->ipywidgets->qiskit-textbook==0.1.0) (0.2.0)\n",
      "Requirement already satisfied: jsonschema!=2.5.0,>=2.4 in c:\\users\\sriha\\appdata\\local\\programs\\python\\python39\\lib\\site-packages (from nbformat>=4.2.0->ipywidgets->qiskit-textbook==0.1.0) (3.2.0)\n",
      "Requirement already satisfied: wcwidth in c:\\users\\sriha\\appdata\\local\\programs\\python\\python39\\lib\\site-packages (from prompt-toolkit!=3.0.0,!=3.0.1,<3.1.0,>=2.0.0->ipython->qiskit-textbook==0.1.0) (0.2.5)\n",
      "Requirement already satisfied: notebook>=4.4.1 in c:\\users\\sriha\\appdata\\local\\programs\\python\\python39\\lib\\site-packages (from widgetsnbextension~=3.5.0->ipywidgets->qiskit-textbook==0.1.0) (6.3.0)\n",
      "Requirement already satisfied: attrs>=17.4.0 in c:\\users\\sriha\\appdata\\local\\programs\\python\\python39\\lib\\site-packages (from jsonschema!=2.5.0,>=2.4->nbformat>=4.2.0->ipywidgets->qiskit-textbook==0.1.0) (20.3.0)\n",
      "Requirement already satisfied: pyrsistent>=0.14.0 in c:\\users\\sriha\\appdata\\local\\programs\\python\\python39\\lib\\site-packages (from jsonschema!=2.5.0,>=2.4->nbformat>=4.2.0->ipywidgets->qiskit-textbook==0.1.0) (0.17.3)\n",
      "Requirement already satisfied: jinja2 in c:\\users\\sriha\\appdata\\local\\programs\\python\\python39\\lib\\site-packages (from notebook>=4.4.1->widgetsnbextension~=3.5.0->ipywidgets->qiskit-textbook==0.1.0) (2.11.3)\n",
      "Requirement already satisfied: terminado>=0.8.3 in c:\\users\\sriha\\appdata\\local\\programs\\python\\python39\\lib\\site-packages (from notebook>=4.4.1->widgetsnbextension~=3.5.0->ipywidgets->qiskit-textbook==0.1.0) (0.9.3)\n",
      "Requirement already satisfied: nbconvert in c:\\users\\sriha\\appdata\\local\\programs\\python\\python39\\lib\\site-packages (from notebook>=4.4.1->widgetsnbextension~=3.5.0->ipywidgets->qiskit-textbook==0.1.0) (6.0.7)\n",
      "Requirement already satisfied: Send2Trash>=1.5.0 in c:\\users\\sriha\\appdata\\local\\programs\\python\\python39\\lib\\site-packages (from notebook>=4.4.1->widgetsnbextension~=3.5.0->ipywidgets->qiskit-textbook==0.1.0) (1.5.0)\n",
      "Requirement already satisfied: pyzmq>=17 in c:\\users\\sriha\\appdata\\local\\programs\\python\\python39\\lib\\site-packages (from notebook>=4.4.1->widgetsnbextension~=3.5.0->ipywidgets->qiskit-textbook==0.1.0) (22.0.3)\n",
      "Requirement already satisfied: argon2-cffi in c:\\users\\sriha\\appdata\\local\\programs\\python\\python39\\lib\\site-packages (from notebook>=4.4.1->widgetsnbextension~=3.5.0->ipywidgets->qiskit-textbook==0.1.0) (20.1.0)\n",
      "Requirement already satisfied: prometheus-client in c:\\users\\sriha\\appdata\\local\\programs\\python\\python39\\lib\\site-packages (from notebook>=4.4.1->widgetsnbextension~=3.5.0->ipywidgets->qiskit-textbook==0.1.0) (0.9.0)\n",
      "Requirement already satisfied: pywin32>=1.0 in c:\\users\\sriha\\appdata\\local\\programs\\python\\python39\\lib\\site-packages (from jupyter-core->nbformat>=4.2.0->ipywidgets->qiskit-textbook==0.1.0) (300)\n",
      "Requirement already satisfied: certifi>=2017.4.17 in c:\\users\\sriha\\appdata\\local\\programs\\python\\python39\\lib\\site-packages (from requests>=2.19->qiskit-ibmq-provider==0.19.2->qiskit->qiskit-textbook==0.1.0) (2021.5.30)\n",
      "Requirement already satisfied: chardet<5,>=3.0.2 in c:\\users\\sriha\\appdata\\local\\programs\\python\\python39\\lib\\site-packages (from requests>=2.19->qiskit-ibmq-provider==0.19.2->qiskit->qiskit-textbook==0.1.0) (4.0.0)\n",
      "Requirement already satisfied: idna<3,>=2.5 in c:\\users\\sriha\\appdata\\local\\programs\\python\\python39\\lib\\site-packages (from requests>=2.19->qiskit-ibmq-provider==0.19.2->qiskit->qiskit-textbook==0.1.0) (2.10)\n",
      "Requirement already satisfied: cryptography>=1.3 in c:\\users\\sriha\\appdata\\local\\programs\\python\\python39\\lib\\site-packages (from requests-ntlm>=1.1.0->qiskit-ibmq-provider==0.19.2->qiskit->qiskit-textbook==0.1.0) (36.0.0)\n",
      "Requirement already satisfied: ntlm-auth>=1.0.2 in c:\\users\\sriha\\appdata\\local\\programs\\python\\python39\\lib\\site-packages (from requests-ntlm>=1.1.0->qiskit-ibmq-provider==0.19.2->qiskit->qiskit-textbook==0.1.0) (1.5.0)\n",
      "Requirement already satisfied: pbr!=2.1.0,>=2.0.0 in c:\\users\\sriha\\appdata\\local\\programs\\python\\python39\\lib\\site-packages (from stevedore>=3.0.0->qiskit-terra==0.21.0->qiskit->qiskit-textbook==0.1.0) (5.9.0)\n",
      "Requirement already satisfied: mpmath>=0.19 in c:\\users\\sriha\\appdata\\local\\programs\\python\\python39\\lib\\site-packages (from sympy>=1.3->qiskit-terra==0.21.0->qiskit->qiskit-textbook==0.1.0) (1.2.1)\n",
      "Requirement already satisfied: cffi>=1.12 in c:\\users\\sriha\\appdata\\local\\programs\\python\\python39\\lib\\site-packages (from cryptography>=1.3->requests-ntlm>=1.1.0->qiskit-ibmq-provider==0.19.2->qiskit->qiskit-textbook==0.1.0) (1.14.5)\n",
      "Requirement already satisfied: pywinpty>=0.5 in c:\\users\\sriha\\appdata\\local\\programs\\python\\python39\\lib\\site-packages (from terminado>=0.8.3->notebook>=4.4.1->widgetsnbextension~=3.5.0->ipywidgets->qiskit-textbook==0.1.0) (0.5.7)\n",
      "Requirement already satisfied: MarkupSafe>=0.23 in c:\\users\\sriha\\appdata\\local\\programs\\python\\python39\\lib\\site-packages (from jinja2->notebook>=4.4.1->widgetsnbextension~=3.5.0->ipywidgets->qiskit-textbook==0.1.0) (1.1.1)\n",
      "Requirement already satisfied: defusedxml in c:\\users\\sriha\\appdata\\local\\programs\\python\\python39\\lib\\site-packages (from nbconvert->notebook>=4.4.1->widgetsnbextension~=3.5.0->ipywidgets->qiskit-textbook==0.1.0) (0.7.1)\n",
      "Requirement already satisfied: jupyterlab-pygments in c:\\users\\sriha\\appdata\\local\\programs\\python\\python39\\lib\\site-packages (from nbconvert->notebook>=4.4.1->widgetsnbextension~=3.5.0->ipywidgets->qiskit-textbook==0.1.0) (0.1.2)\n",
      "Requirement already satisfied: bleach in c:\\users\\sriha\\appdata\\local\\programs\\python\\python39\\lib\\site-packages (from nbconvert->notebook>=4.4.1->widgetsnbextension~=3.5.0->ipywidgets->qiskit-textbook==0.1.0) (3.3.0)\n",
      "Requirement already satisfied: mistune<2,>=0.8.1 in c:\\users\\sriha\\appdata\\local\\programs\\python\\python39\\lib\\site-packages (from nbconvert->notebook>=4.4.1->widgetsnbextension~=3.5.0->ipywidgets->qiskit-textbook==0.1.0) (0.8.4)\n",
      "Requirement already satisfied: nbclient<0.6.0,>=0.5.0 in c:\\users\\sriha\\appdata\\local\\programs\\python\\python39\\lib\\site-packages (from nbconvert->notebook>=4.4.1->widgetsnbextension~=3.5.0->ipywidgets->qiskit-textbook==0.1.0) (0.5.3)\n",
      "Requirement already satisfied: testpath in c:\\users\\sriha\\appdata\\local\\programs\\python\\python39\\lib\\site-packages (from nbconvert->notebook>=4.4.1->widgetsnbextension~=3.5.0->ipywidgets->qiskit-textbook==0.1.0) (0.4.4)\n",
      "Requirement already satisfied: pandocfilters>=1.4.1 in c:\\users\\sriha\\appdata\\local\\programs\\python\\python39\\lib\\site-packages (from nbconvert->notebook>=4.4.1->widgetsnbextension~=3.5.0->ipywidgets->qiskit-textbook==0.1.0) (1.4.3)\n",
      "Requirement already satisfied: entrypoints>=0.2.2 in c:\\users\\sriha\\appdata\\local\\programs\\python\\python39\\lib\\site-packages (from nbconvert->notebook>=4.4.1->widgetsnbextension~=3.5.0->ipywidgets->qiskit-textbook==0.1.0) (0.3)\n",
      "Requirement already satisfied: pycparser in c:\\users\\sriha\\appdata\\local\\programs\\python\\python39\\lib\\site-packages (from cffi>=1.12->cryptography>=1.3->requests-ntlm>=1.1.0->qiskit-ibmq-provider==0.19.2->qiskit->qiskit-textbook==0.1.0) (2.20)\n",
      "Requirement already satisfied: nest-asyncio in c:\\users\\sriha\\appdata\\local\\programs\\python\\python39\\lib\\site-packages (from nbclient<0.6.0,>=0.5.0->nbconvert->notebook>=4.4.1->widgetsnbextension~=3.5.0->ipywidgets->qiskit-textbook==0.1.0) (1.5.1)\n",
      "Requirement already satisfied: async-generator in c:\\users\\sriha\\appdata\\local\\programs\\python\\python39\\lib\\site-packages (from nbclient<0.6.0,>=0.5.0->nbconvert->notebook>=4.4.1->widgetsnbextension~=3.5.0->ipywidgets->qiskit-textbook==0.1.0) (1.10)\n",
      "Requirement already satisfied: webencodings in c:\\users\\sriha\\appdata\\local\\programs\\python\\python39\\lib\\site-packages (from bleach->nbconvert->notebook>=4.4.1->widgetsnbextension~=3.5.0->ipywidgets->qiskit-textbook==0.1.0) (0.5.1)\n",
      "Requirement already satisfied: packaging in c:\\users\\sriha\\appdata\\local\\programs\\python\\python39\\lib\\site-packages (from bleach->nbconvert->notebook>=4.4.1->widgetsnbextension~=3.5.0->ipywidgets->qiskit-textbook==0.1.0) (20.9)\n",
      "Using legacy 'setup.py install' for qiskit-textbook, since package 'wheel' is not installed.\n",
      "Installing collected packages: qiskit-textbook\n",
      "  Running setup.py install for qiskit-textbook: started\n",
      "  Running setup.py install for qiskit-textbook: finished with status 'done'\n",
      "Successfully installed qiskit-textbook-0.1.0\n"
     ]
    }
   ],
   "source": [
    "!{sys.executable} -m pip install git+https://github.com/qiskit-community/qiskit-textbook.git#subdirectory=qiskit-textbook-src"
   ]
  },
  {
   "cell_type": "code",
   "execution_count": 4,
   "id": "previous-destruction",
   "metadata": {},
   "outputs": [
    {
     "name": "stdout",
     "output_type": "stream",
     "text": [
      "0.21.0\n"
     ]
    }
   ],
   "source": [
    "import qiskit\n",
    "print(qiskit.__version__)"
   ]
  },
  {
   "cell_type": "code",
   "execution_count": 7,
   "id": "stone-keeping",
   "metadata": {},
   "outputs": [
    {
     "name": "stdout",
     "output_type": "stream",
     "text": [
      "Collecting numexpr\n",
      "  Downloading numexpr-2.8.3-cp39-cp39-win_amd64.whl (92 kB)\n",
      "     ---------------------------------------- 92.5/92.5 KB 5.1 MB/s eta 0:00:00\n",
      "Requirement already satisfied: packaging in c:\\users\\sriha\\appdata\\local\\programs\\python\\python39\\lib\\site-packages (from numexpr) (20.9)\n",
      "Requirement already satisfied: numpy>=1.13.3 in c:\\users\\sriha\\appdata\\local\\programs\\python\\python39\\lib\\site-packages (from numexpr) (1.21.0)\n",
      "Requirement already satisfied: pyparsing>=2.0.2 in c:\\users\\sriha\\appdata\\local\\programs\\python\\python39\\lib\\site-packages (from packaging->numexpr) (2.4.7)\n",
      "Installing collected packages: numexpr\n",
      "Successfully installed numexpr-2.8.3\n"
     ]
    },
    {
     "name": "stderr",
     "output_type": "stream",
     "text": [
      "WARNING: You are using pip version 22.0.3; however, version 22.1.2 is available.\n",
      "You should consider upgrading via the 'c:\\users\\sriha\\appdata\\local\\programs\\python\\python39\\python.exe -m pip install --upgrade pip' command.\n"
     ]
    }
   ],
   "source": [
    "!{sys.executable} -m pip install numexpr"
   ]
  },
  {
   "cell_type": "code",
   "execution_count": 8,
   "id": "comparative-colon",
   "metadata": {},
   "outputs": [
    {
     "data": {
      "text/html": [
       "<h3>Version Information</h3><table><tr><th>Qiskit Software</th><th>Version</th></tr><tr><td><code>qiskit-terra</code></td><td>0.21.0</td></tr><tr><td><code>qiskit-aer</code></td><td>0.10.4</td></tr><tr><td><code>qiskit-ibmq-provider</code></td><td>0.19.2</td></tr><tr><td><code>qiskit</code></td><td>0.37.0</td></tr><tr><th>System information</th></tr><tr><td>Python version</td><td>3.9.2</td></tr><tr><td>Python compiler</td><td>MSC v.1928 64 bit (AMD64)</td></tr><tr><td>Python build</td><td>tags/v3.9.2:1a79785, Feb 19 2021 13:44:55</td></tr><tr><td>OS</td><td>Windows</td></tr><tr><td>CPUs</td><td>8</td></tr><tr><td>Memory (Gb)</td><td>31.766357421875</td></tr><tr><td colspan='2'>Sun Jul 10 10:20:04 2022 India Standard Time</td></tr></table>"
      ],
      "text/plain": [
       "<IPython.core.display.HTML object>"
      ]
     },
     "metadata": {},
     "output_type": "display_data"
    }
   ],
   "source": [
    "import qiskit.tools.jupyter\n",
    "%qiskit_version_table"
   ]
  },
  {
   "cell_type": "code",
   "execution_count": 2,
   "id": "tamil-chicken",
   "metadata": {},
   "outputs": [
    {
     "name": "stdout",
     "output_type": "stream",
     "text": [
      "Requirement already satisfied: pylatexenc in c:\\users\\sriha\\appdata\\local\\programs\\python\\python39\\lib\\site-packages (2.10)"
     ]
    },
    {
     "name": "stderr",
     "output_type": "stream",
     "text": [
      "WARNING: You are using pip version 22.0.3; however, version 22.1.2 is available.\n",
      "You should consider upgrading via the 'c:\\users\\sriha\\appdata\\local\\programs\\python\\python39\\python.exe -m pip install --upgrade pip' command.\n"
     ]
    },
    {
     "name": "stdout",
     "output_type": "stream",
     "text": [
      "\n"
     ]
    }
   ],
   "source": [
    "import sys\n",
    "!{sys.executable} -m pip install pylatexenc"
   ]
  },
  {
   "cell_type": "code",
   "execution_count": 7,
   "id": "addressed-accountability",
   "metadata": {},
   "outputs": [
    {
     "data": {
      "text/plain": [
       "<AccountProvider for IBMQ(hub='ibm-q', group='open', project='main')>"
      ]
     },
     "execution_count": 7,
     "metadata": {},
     "output_type": "execute_result"
    }
   ],
   "source": [
    "# from qiskit import IBMQ\n",
    "# IBMQ.save_account(66ae68c5371590f51593f8fe3fd43cbb3b33a3c2769caa587c1adc7768a68574f90bb37aefba9766b133051b00637d2f3162f3397960f698affffc94451089b2)\n",
    "from qiskit import IBMQ\n",
    "TOKEN = \"66ae68c5371590f51593f8fe3fd43cbb3b33a3c2769caa587c1adc7768a68574f90bb37aefba9766b133051b00637d2f3162f3397960f698affffc94451089b2\"\n",
    "IBMQ.enable_account(TOKEN)"
   ]
  },
  {
   "cell_type": "code",
   "execution_count": null,
   "id": "favorite-investing",
   "metadata": {},
   "outputs": [],
   "source": []
  }
 ],
 "metadata": {
  "kernelspec": {
   "display_name": "Python 3",
   "language": "python",
   "name": "python3"
  },
  "language_info": {
   "codemirror_mode": {
    "name": "ipython",
    "version": 3
   },
   "file_extension": ".py",
   "mimetype": "text/x-python",
   "name": "python",
   "nbconvert_exporter": "python",
   "pygments_lexer": "ipython3",
   "version": "3.9.2"
  }
 },
 "nbformat": 4,
 "nbformat_minor": 5
}
