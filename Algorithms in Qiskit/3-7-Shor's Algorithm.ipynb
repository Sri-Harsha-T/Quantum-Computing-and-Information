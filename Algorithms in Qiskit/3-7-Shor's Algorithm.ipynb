{
 "cells": [
  {
   "cell_type": "code",
   "execution_count": 3,
   "id": "accessible-killer",
   "metadata": {},
   "outputs": [
    {
     "name": "stdout",
     "output_type": "stream",
     "text": [
      "Imports Successful\n"
     ]
    }
   ],
   "source": [
    "import matplotlib.pyplot as plt\n",
    "import numpy as np\n",
    "from qiskit import QuantumCircuit, Aer, transpile, assemble\n",
    "from qiskit.visualization import plot_histogram\n",
    "from math import gcd\n",
    "from numpy.random import randint\n",
    "import pandas as pd\n",
    "from fractions import Fraction\n",
    "print(\"Imports Successful\")"
   ]
  },
  {
   "cell_type": "code",
   "execution_count": 4,
   "id": "polar-friendly",
   "metadata": {},
   "outputs": [],
   "source": [
    "def c_amod15(a, power):\n",
    "    \"\"\"Controlled multiplication by a mod 15\"\"\"\n",
    "    if a not in [2,4,7,8,11,13]:\n",
    "        raise ValueError(\"'a' must be 2,4,7,8,11 or 13\")\n",
    "    U = QuantumCircuit(4)\n",
    "    for iteration in range(power):\n",
    "        if a in [2,13]:\n",
    "            U.swap(0,1)\n",
    "            U.swap(1,2)\n",
    "            U.swap(2,3)\n",
    "        if a in [7,8]:\n",
    "            U.swap(2,3)\n",
    "            U.swap(1,2)\n",
    "            U.swap(0,1)\n",
    "        if a in [4,11]:\n",
    "            U.swap(1,3)\n",
    "            U.swap(0,2)\n",
    "        if a in [7,11,13]:\n",
    "            for q in range(4):\n",
    "                U.x(q)\n",
    "        U = U.to_gate()\n",
    "        U.name = \"%i^%i mod 5\" % (a, power)\n",
    "        c_U = U.control()\n",
    "        return c_U"
   ]
  },
  {
   "cell_type": "code",
   "execution_count": 5,
   "id": "impaired-wages",
   "metadata": {},
   "outputs": [],
   "source": [
    "n_count = 8 # number of counting qubits\n",
    "a = 7"
   ]
  },
  {
   "cell_type": "code",
   "execution_count": 6,
   "id": "noble-organic",
   "metadata": {},
   "outputs": [],
   "source": [
    "def qft_dagger(n):\n",
    "    \"\"\"n-qubit QFTdagger the first n qubits in circuit\"\"\"\n",
    "    qc = QuantumCircuit(n)\n",
    "    # Swaps shouldn't be forgotten\n",
    "    for qubit in range(n//2):\n",
    "        qc.swap(qubit, n-qubit-1)\n",
    "    for j in range(n):\n",
    "        for m in range(j):\n",
    "            qc.cp(-np.pi/float(2**(j-m)), m, j)\n",
    "        qc.h(j)\n",
    "    qc.name = \"QFT†\"\n",
    "    return qc"
   ]
  },
  {
   "cell_type": "code",
   "execution_count": 7,
   "id": "rental-biotechnology",
   "metadata": {},
   "outputs": [
    {
     "data": {
      "text/html": [
       "<pre style=\"word-wrap: normal;white-space: pre;background: #fff0;line-height: 1.1;font-family: &quot;Courier New&quot;,Courier,monospace\">      ┌───┐                                                                                                                     ┌───────┐┌─┐                     \n",
       " q_0: ┤ H ├──────■──────────────────────────────────────────────────────────────────────────────────────────────────────────────┤0      ├┤M├─────────────────────\n",
       "      ├───┤      │                                                                                                              │       │└╥┘┌─┐                  \n",
       " q_1: ┤ H ├──────┼─────────────■────────────────────────────────────────────────────────────────────────────────────────────────┤1      ├─╫─┤M├──────────────────\n",
       "      ├───┤      │             │                                                                                                │       │ ║ └╥┘┌─┐               \n",
       " q_2: ┤ H ├──────┼─────────────┼─────────────■──────────────────────────────────────────────────────────────────────────────────┤2      ├─╫──╫─┤M├───────────────\n",
       "      ├───┤      │             │             │                                                                                  │       │ ║  ║ └╥┘┌─┐            \n",
       " q_3: ┤ H ├──────┼─────────────┼─────────────┼─────────────■────────────────────────────────────────────────────────────────────┤3      ├─╫──╫──╫─┤M├────────────\n",
       "      ├───┤      │             │             │             │                                                                    │  QFT† │ ║  ║  ║ └╥┘┌─┐         \n",
       " q_4: ┤ H ├──────┼─────────────┼─────────────┼─────────────┼──────────────■─────────────────────────────────────────────────────┤4      ├─╫──╫──╫──╫─┤M├─────────\n",
       "      ├───┤      │             │             │             │              │                                                     │       │ ║  ║  ║  ║ └╥┘┌─┐      \n",
       " q_5: ┤ H ├──────┼─────────────┼─────────────┼─────────────┼──────────────┼──────────────■──────────────────────────────────────┤5      ├─╫──╫──╫──╫──╫─┤M├──────\n",
       "      ├───┤      │             │             │             │              │              │                                      │       │ ║  ║  ║  ║  ║ └╥┘┌─┐   \n",
       " q_6: ┤ H ├──────┼─────────────┼─────────────┼─────────────┼──────────────┼──────────────┼──────────────■───────────────────────┤6      ├─╫──╫──╫──╫──╫──╫─┤M├───\n",
       "      ├───┤      │             │             │             │              │              │              │                       │       │ ║  ║  ║  ║  ║  ║ └╥┘┌─┐\n",
       " q_7: ┤ H ├──────┼─────────────┼─────────────┼─────────────┼──────────────┼──────────────┼──────────────┼──────────────■────────┤7      ├─╫──╫──╫──╫──╫──╫──╫─┤M├\n",
       "      └───┘┌─────┴──────┐┌─────┴──────┐┌─────┴──────┐┌─────┴──────┐┌──────┴──────┐┌──────┴──────┐┌──────┴──────┐┌──────┴───────┐└───────┘ ║  ║  ║  ║  ║  ║  ║ └╥┘\n",
       " q_8: ─────┤0           ├┤0           ├┤0           ├┤0           ├┤0            ├┤0            ├┤0            ├┤0             ├──────────╫──╫──╫──╫──╫──╫──╫──╫─\n",
       "           │            ││            ││            ││            ││             ││             ││             ││              │          ║  ║  ║  ║  ║  ║  ║  ║ \n",
       " q_9: ─────┤1           ├┤1           ├┤1           ├┤1           ├┤1            ├┤1            ├┤1            ├┤1             ├──────────╫──╫──╫──╫──╫──╫──╫──╫─\n",
       "           │  7^1 mod 5 ││  7^2 mod 5 ││  7^4 mod 5 ││  7^8 mod 5 ││  7^16 mod 5 ││  7^32 mod 5 ││  7^64 mod 5 ││  7^128 mod 5 │          ║  ║  ║  ║  ║  ║  ║  ║ \n",
       "q_10: ─────┤2           ├┤2           ├┤2           ├┤2           ├┤2            ├┤2            ├┤2            ├┤2             ├──────────╫──╫──╫──╫──╫──╫──╫──╫─\n",
       "      ┌───┐│            ││            ││            ││            ││             ││             ││             ││              │          ║  ║  ║  ║  ║  ║  ║  ║ \n",
       "q_11: ┤ X ├┤3           ├┤3           ├┤3           ├┤3           ├┤3            ├┤3            ├┤3            ├┤3             ├──────────╫──╫──╫──╫──╫──╫──╫──╫─\n",
       "      └───┘└────────────┘└────────────┘└────────────┘└────────────┘└─────────────┘└─────────────┘└─────────────┘└──────────────┘          ║  ║  ║  ║  ║  ║  ║  ║ \n",
       " c: 8/════════════════════════════════════════════════════════════════════════════════════════════════════════════════════════════════════╩══╩══╩══╩══╩══╩══╩══╩═\n",
       "                                                                                                                                          0  1  2  3  4  5  6  7 </pre>"
      ],
      "text/plain": [
       "      ┌───┐                                                                                                                     ┌───────┐┌─┐                     \n",
       " q_0: ┤ H ├──────■──────────────────────────────────────────────────────────────────────────────────────────────────────────────┤0      ├┤M├─────────────────────\n",
       "      ├───┤      │                                                                                                              │       │└╥┘┌─┐                  \n",
       " q_1: ┤ H ├──────┼─────────────■────────────────────────────────────────────────────────────────────────────────────────────────┤1      ├─╫─┤M├──────────────────\n",
       "      ├───┤      │             │                                                                                                │       │ ║ └╥┘┌─┐               \n",
       " q_2: ┤ H ├──────┼─────────────┼─────────────■──────────────────────────────────────────────────────────────────────────────────┤2      ├─╫──╫─┤M├───────────────\n",
       "      ├───┤      │             │             │                                                                                  │       │ ║  ║ └╥┘┌─┐            \n",
       " q_3: ┤ H ├──────┼─────────────┼─────────────┼─────────────■────────────────────────────────────────────────────────────────────┤3      ├─╫──╫──╫─┤M├────────────\n",
       "      ├───┤      │             │             │             │                                                                    │  QFT† │ ║  ║  ║ └╥┘┌─┐         \n",
       " q_4: ┤ H ├──────┼─────────────┼─────────────┼─────────────┼──────────────■─────────────────────────────────────────────────────┤4      ├─╫──╫──╫──╫─┤M├─────────\n",
       "      ├───┤      │             │             │             │              │                                                     │       │ ║  ║  ║  ║ └╥┘┌─┐      \n",
       " q_5: ┤ H ├──────┼─────────────┼─────────────┼─────────────┼──────────────┼──────────────■──────────────────────────────────────┤5      ├─╫──╫──╫──╫──╫─┤M├──────\n",
       "      ├───┤      │             │             │             │              │              │                                      │       │ ║  ║  ║  ║  ║ └╥┘┌─┐   \n",
       " q_6: ┤ H ├──────┼─────────────┼─────────────┼─────────────┼──────────────┼──────────────┼──────────────■───────────────────────┤6      ├─╫──╫──╫──╫──╫──╫─┤M├───\n",
       "      ├───┤      │             │             │             │              │              │              │                       │       │ ║  ║  ║  ║  ║  ║ └╥┘┌─┐\n",
       " q_7: ┤ H ├──────┼─────────────┼─────────────┼─────────────┼──────────────┼──────────────┼──────────────┼──────────────■────────┤7      ├─╫──╫──╫──╫──╫──╫──╫─┤M├\n",
       "      └───┘┌─────┴──────┐┌─────┴──────┐┌─────┴──────┐┌─────┴──────┐┌──────┴──────┐┌──────┴──────┐┌──────┴──────┐┌──────┴───────┐└───────┘ ║  ║  ║  ║  ║  ║  ║ └╥┘\n",
       " q_8: ─────┤0           ├┤0           ├┤0           ├┤0           ├┤0            ├┤0            ├┤0            ├┤0             ├──────────╫──╫──╫──╫──╫──╫──╫──╫─\n",
       "           │            ││            ││            ││            ││             ││             ││             ││              │          ║  ║  ║  ║  ║  ║  ║  ║ \n",
       " q_9: ─────┤1           ├┤1           ├┤1           ├┤1           ├┤1            ├┤1            ├┤1            ├┤1             ├──────────╫──╫──╫──╫──╫──╫──╫──╫─\n",
       "           │  7^1 mod 5 ││  7^2 mod 5 ││  7^4 mod 5 ││  7^8 mod 5 ││  7^16 mod 5 ││  7^32 mod 5 ││  7^64 mod 5 ││  7^128 mod 5 │          ║  ║  ║  ║  ║  ║  ║  ║ \n",
       "q_10: ─────┤2           ├┤2           ├┤2           ├┤2           ├┤2            ├┤2            ├┤2            ├┤2             ├──────────╫──╫──╫──╫──╫──╫──╫──╫─\n",
       "      ┌───┐│            ││            ││            ││            ││             ││             ││             ││              │          ║  ║  ║  ║  ║  ║  ║  ║ \n",
       "q_11: ┤ X ├┤3           ├┤3           ├┤3           ├┤3           ├┤3            ├┤3            ├┤3            ├┤3             ├──────────╫──╫──╫──╫──╫──╫──╫──╫─\n",
       "      └───┘└────────────┘└────────────┘└────────────┘└────────────┘└─────────────┘└─────────────┘└─────────────┘└──────────────┘          ║  ║  ║  ║  ║  ║  ║  ║ \n",
       " c: 8/════════════════════════════════════════════════════════════════════════════════════════════════════════════════════════════════════╩══╩══╩══╩══╩══╩══╩══╩═\n",
       "                                                                                                                                          0  1  2  3  4  5  6  7 "
      ]
     },
     "execution_count": 7,
     "metadata": {},
     "output_type": "execute_result"
    }
   ],
   "source": [
    "# A QuantumCircuit with n_count counting qubits + 4 qubits for U to act on\n",
    "qc = QuantumCircuit(n_count + 4, n_count)\n",
    "\n",
    "# Initialize counting qubits in state |+>\n",
    "for q in range(n_count):\n",
    "    qc.h(q)\n",
    "    \n",
    "# And auxiliary register in state |1>\n",
    "qc.x(3+n_count)\n",
    "\n",
    "# Do controlled-U operations\n",
    "for q in range(n_count):\n",
    "    qc.append(c_amod15(a, 2**q), [q]+[i+n_count for i in range(4)])\n",
    "    \n",
    "# Do inverse QFT\n",
    "qc.append(qft_dagger(n_count), range(n_count))\n",
    "\n",
    "# Measure \n",
    "qc.measure(range(n_count), range(n_count))\n",
    "qc.draw(fold=-1) # -1 means 'do not fold'"
   ]
  },
  {
   "cell_type": "code",
   "execution_count": 8,
   "id": "ordinary-avatar",
   "metadata": {},
   "outputs": [
    {
     "data": {
      "image/png": "[encoded data removed]",
      "text/plain": [
       "<Figure size 504x360 with 1 Axes>"
      ]
     },
     "execution_count": 8,
     "metadata": {},
     "output_type": "execute_result"
    }
   ],
   "source": [
    "aer_sim = Aer.get_backend('aer_simulator')\n",
    "t_qc = transpile(qc, aer_sim)\n",
    "qobj = assemble(t_qc)\n",
    "results = aer_sim.run(qobj).result()\n",
    "counts = results.get_counts()\n",
    "plot_histogram(counts)"
   ]
  },
  {
   "cell_type": "code",
   "execution_count": 9,
   "id": "adolescent-million",
   "metadata": {},
   "outputs": [
    {
     "name": "stdout",
     "output_type": "stream",
     "text": [
      "              Register Output           Phase\n",
      "0    10111000(bin) = 184(dec)  184/256 = 0.72\n",
      "1    11011111(bin) = 223(dec)  223/256 = 0.87\n",
      "2    10101001(bin) = 169(dec)  169/256 = 0.66\n",
      "3    00000000(bin) =   0(dec)    0/256 = 0.00\n",
      "4    11000111(bin) = 199(dec)  199/256 = 0.78\n",
      "..                        ...             ...\n",
      "127  01101100(bin) = 108(dec)  108/256 = 0.42\n",
      "128  01001000(bin) =  72(dec)   72/256 = 0.28\n",
      "129  01110101(bin) = 117(dec)  117/256 = 0.46\n",
      "130  00111001(bin) =  57(dec)   57/256 = 0.22\n",
      "131  00111000(bin) =  56(dec)   56/256 = 0.22\n",
      "\n",
      "[132 rows x 2 columns]\n"
     ]
    }
   ],
   "source": [
    "rows, measured_phases = [], []\n",
    "for output in counts:\n",
    "    decimal = int(output, 2) # Convert (base 2) string to decimal\n",
    "    phase = decimal/(2**n_count) # Find corresponding eigenvalue\n",
    "    measured_phases.append(phase)\n",
    "    # Add these value to the rows in our table:\n",
    "    rows.append([f\"{output}(bin) = {decimal:>3}(dec)\",\n",
    "                f\"{decimal}/{2**n_count} = {phase:.2f}\"])\n",
    "# Print the rows in a table\n",
    "headers = [\"Register Output\", \"Phase\"]\n",
    "df = pd.DataFrame(rows, columns=headers)\n",
    "print(df)"
   ]
  },
  {
   "cell_type": "code",
   "execution_count": 10,
   "id": "adolescent-coast",
   "metadata": {},
   "outputs": [],
   "source": [
    "# Fraction(0.666).limit_denominator(15)\n",
    "rows = []\n",
    "for phase in measured_phases:\n",
    "    frac = Fraction(phase).limit_denominator(15)"
   ]
  },
  {
   "cell_type": "code",
   "execution_count": 11,
   "id": "primary-bottle",
   "metadata": {},
   "outputs": [
    {
     "name": "stdout",
     "output_type": "stream",
     "text": [
      "        Phase Fraction  Guess for r\n",
      "0    0.718750      5/7            7\n",
      "1    0.871094      7/8            8\n",
      "2    0.660156      2/3            3\n",
      "3    0.000000      0/1            1\n",
      "4    0.777344      7/9            9\n",
      "..        ...      ...          ...\n",
      "127  0.421875     5/12           12\n",
      "128  0.281250      2/7            7\n",
      "129  0.457031     5/11           11\n",
      "130  0.222656      2/9            9\n",
      "131  0.218750      2/9            9\n",
      "\n",
      "[132 rows x 3 columns]\n"
     ]
    }
   ],
   "source": [
    "rows = []\n",
    "for phase in measured_phases:\n",
    "    frac = Fraction(phase).limit_denominator(15)\n",
    "    rows.append([phase, f\"{frac.numerator}/{frac.denominator}\", frac.denominator])\n",
    "# Print as a table\n",
    "headers = [\"Phase\", \"Fraction\", \"Guess for r\"]\n",
    "df = pd.DataFrame(rows, columns = headers)\n",
    "print(df)"
   ]
  },
  {
   "cell_type": "code",
   "execution_count": 12,
   "id": "becoming-patio",
   "metadata": {},
   "outputs": [],
   "source": [
    "def a2jmodN(a, j, N):\n",
    "    \"\"\"Compute a**{2**j} (mod N) by repeated squaring\"\"\"\n",
    "    for i in range(j):\n",
    "        a = np.mod(a**2,N)\n",
    "    return a"
   ]
  },
  {
   "cell_type": "code",
   "execution_count": 13,
   "id": "harmful-radius",
   "metadata": {},
   "outputs": [
    {
     "data": {
      "text/plain": [
       "47"
      ]
     },
     "execution_count": 13,
     "metadata": {},
     "output_type": "execute_result"
    }
   ],
   "source": [
    "a2jmodN(7, 2049, 53)"
   ]
  },
  {
   "cell_type": "code",
   "execution_count": 14,
   "id": "modified-sauce",
   "metadata": {},
   "outputs": [
    {
     "name": "stdout",
     "output_type": "stream",
     "text": [
      "7\n"
     ]
    }
   ],
   "source": [
    "N = 15\n",
    "np.random.seed(1)\n",
    "a = randint(2, 15)\n",
    "print(a)"
   ]
  },
  {
   "cell_type": "code",
   "execution_count": 15,
   "id": "oriental-quality",
   "metadata": {},
   "outputs": [
    {
     "data": {
      "text/plain": [
       "1"
      ]
     },
     "execution_count": 15,
     "metadata": {},
     "output_type": "execute_result"
    }
   ],
   "source": [
    "from math import gcd\n",
    "gcd(a, N)"
   ]
  },
  {
   "cell_type": "code",
   "execution_count": 19,
   "id": "afraid-generic",
   "metadata": {},
   "outputs": [],
   "source": [
    "def qpe_amod15(a):\n",
    "    n_count = 8\n",
    "    qc = QuantumCircuit(4+n_count, n_count)\n",
    "    for q in range(n_count):\n",
    "        qc.h(q) # Initialize counting qubits in state |+>\n",
    "    qc.x(3+n_count) # And auxiliary register in state |1>\n",
    "    for q in range(n_count): # Do controlled-U operations\n",
    "        qc.append(c_amod15(a, 2**q),\n",
    "                 [q] + [i+n_count for i in range(4)])\n",
    "    qc.append(qft_dagger(n_count), range(n_count)) # Do inverse-QFT\n",
    "    qc.measure(range(n_count), range(n_count))\n",
    "    # Simulate Results\n",
    "    aer_sim = Aer.get_backend('aer_simulator')\n",
    "    # Setting memory=True below allows us to see a list of each sequential reading\n",
    "    t_qc = transpile(qc, aer_sim)\n",
    "    qobj = assemble(t_qc, shots=1)\n",
    "    result = aer_sim.run(qobj, memory=True).result()\n",
    "    readings = result.get_memory()\n",
    "    print(\"Register Reading: \"+ readings[0])\n",
    "    phase = int(readings[0],2)/(2**n_count)\n",
    "    print(\"Corresponding Phase: %f\" % phase)\n",
    "    return phase"
   ]
  },
  {
   "cell_type": "code",
   "execution_count": 20,
   "id": "unsigned-ecuador",
   "metadata": {},
   "outputs": [
    {
     "name": "stdout",
     "output_type": "stream",
     "text": [
      "Register Reading: 11001011\n",
      "Corresponding Phase: 0.792969\n"
     ]
    },
    {
     "data": {
      "text/plain": [
       "Fraction(4, 5)"
      ]
     },
     "execution_count": 20,
     "metadata": {},
     "output_type": "execute_result"
    }
   ],
   "source": [
    "phase = qpe_amod15(a) # Phase = s/r\n",
    "Fraction(phase).limit_denominator(15)"
   ]
  },
  {
   "cell_type": "code",
   "execution_count": 21,
   "id": "inclusive-princess",
   "metadata": {},
   "outputs": [
    {
     "name": "stdout",
     "output_type": "stream",
     "text": [
      "5\n"
     ]
    }
   ],
   "source": [
    "frac = Fraction(phase).limit_denominator(15)\n",
    "s, r = frac.numerator, frac.denominator\n",
    "print(r)"
   ]
  },
  {
   "cell_type": "code",
   "execution_count": 22,
   "id": "steady-theorem",
   "metadata": {},
   "outputs": [
    {
     "name": "stdout",
     "output_type": "stream",
     "text": [
      "[3, 5]\n"
     ]
    }
   ],
   "source": [
    "guesses = [gcd(a**(r//2)-1, N), gcd(a**(r//2)+1, N)]\n",
    "print(guesses)"
   ]
  },
  {
   "cell_type": "code",
   "execution_count": 24,
   "id": "unexpected-pathology",
   "metadata": {},
   "outputs": [
    {
     "name": "stdout",
     "output_type": "stream",
     "text": [
      "\n",
      "Attempt 1:\n",
      "Register Reading: 01101011\n",
      "Corresponding Phase: 0.417969\n",
      "Result: r = 12\n",
      "Guessed Factors: 3 and 5\n",
      "*** Non-trivial factor found: 3 ***\n",
      "*** Non-trivial factor found: 5 ***\n"
     ]
    }
   ],
   "source": [
    "a = 7\n",
    "factor_found = False\n",
    "attempt = 0\n",
    "while not factor_found:\n",
    "    attempt += 1\n",
    "    print(\"\\nAttempt %i:\" % attempt)\n",
    "    phase = qpe_amod15(a) # Phase = s/r\n",
    "    frac = Fraction(phase).limit_denominator(N) \n",
    "    r = frac.denominator\n",
    "    print(\"Result: r = %i\" % r)\n",
    "    if phase != 0:\n",
    "        guesses = [gcd(a**(r//2)-1, N), gcd(a**(r//2)+1, N)]\n",
    "        print(\"Guessed Factors: %i and %i\" % (guesses[0], guesses[1]))\n",
    "        for guess in guesses:\n",
    "            if guess not in [1,N] and (N%guess) == 0:\n",
    "                print(\"*** Non-trivial factor found: %i ***\" % guess)\n",
    "                factor_found = True"
   ]
  },
  {
   "cell_type": "code",
   "execution_count": null,
   "id": "extended-character",
   "metadata": {},
   "outputs": [],
   "source": []
  }
 ],
 "metadata": {
  "kernelspec": {
   "display_name": "Python 3",
   "language": "python",
   "name": "python3"
  },
  "language_info": {
   "codemirror_mode": {
    "name": "ipython",
    "version": 3
   },
   "file_extension": ".py",
   "mimetype": "text/x-python",
   "name": "python",
   "nbconvert_exporter": "python",
   "pygments_lexer": "ipython3",
   "version": "3.9.2"
  }
 },
 "nbformat": 4,
 "nbformat_minor": 5
}
