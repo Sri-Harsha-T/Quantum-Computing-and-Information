{
 "cells": [
  {
   "cell_type": "code",
   "execution_count": 1,
   "id": "amended-boost",
   "metadata": {},
   "outputs": [],
   "source": [
    "from qiskit import QuantumCircuit, QuantumRegister"
   ]
  },
  {
   "cell_type": "code",
   "execution_count": 11,
   "id": "dedicated-advantage",
   "metadata": {},
   "outputs": [
    {
     "data": {
      "text/html": [
       "<pre style=\"word-wrap: normal;white-space: pre;background: #fff0;line-height: 1.1;font-family: &quot;Courier New&quot;,Courier,monospace\">                   \n",
       "  input: ───────■──\n",
       "         ┌───┐┌─┴─┐\n",
       " output: ┤ X ├┤ X ├\n",
       "         └───┘└───┘\n",
       "garbage: ──────────\n",
       "                   </pre>"
      ],
      "text/plain": [
       "                   \n",
       "  input: ───────■──\n",
       "         ┌───┐┌─┴─┐\n",
       " output: ┤ X ├┤ X ├\n",
       "         └───┘└───┘\n",
       "garbage: ──────────\n",
       "                   "
      ]
     },
     "execution_count": 11,
     "metadata": {},
     "output_type": "execute_result"
    }
   ],
   "source": [
    "input_bit = QuantumRegister(1, 'input')\n",
    "output_bit = QuantumRegister(1, 'output')\n",
    "garbage_bit = QuantumRegister(1, 'garbage')\n",
    "# output_bit[0].x(0)\n",
    "Uf = QuantumCircuit(input_bit, output_bit, garbage_bit)\n",
    "Uf.x(output_bit[0])\n",
    "Uf.cx(input_bit[0], output_bit[0])\n",
    "Uf.draw()"
   ]
  },
  {
   "cell_type": "code",
   "execution_count": 12,
   "id": "spoken-thompson",
   "metadata": {},
   "outputs": [
    {
     "data": {
      "text/html": [
       "<pre style=\"word-wrap: normal;white-space: pre;background: #fff0;line-height: 1.1;font-family: &quot;Courier New&quot;,Courier,monospace\">                   \n",
       "  input: ──■────■──\n",
       "           │  ┌─┴─┐\n",
       " output: ──┼──┤ X ├\n",
       "         ┌─┴─┐└───┘\n",
       "garbage: ┤ X ├─────\n",
       "         └───┘     </pre>"
      ],
      "text/plain": [
       "                   \n",
       "  input: ──■────■──\n",
       "           │  ┌─┴─┐\n",
       " output: ──┼──┤ X ├\n",
       "         ┌─┴─┐└───┘\n",
       "garbage: ┤ X ├─────\n",
       "         └───┘     "
      ]
     },
     "execution_count": 12,
     "metadata": {},
     "output_type": "execute_result"
    }
   ],
   "source": [
    "Vf = QuantumCircuit(input_bit, output_bit, garbage_bit)\n",
    "Vf.cx(input_bit[0], garbage_bit[0])\n",
    "Vf.cx(input_bit[0], output_bit[0])\n",
    "Vf.draw()"
   ]
  },
  {
   "cell_type": "code",
   "execution_count": 13,
   "id": "stable-caribbean",
   "metadata": {},
   "outputs": [
    {
     "name": "stderr",
     "output_type": "stream",
     "text": [
      "<ipython-input-13-262dd2819ad4>:1: DeprecationWarning: The QuantumCircuit.__add__() method is being deprecated.Use the compose() method which is more flexible w.r.t circuit register compatibility.\n",
      "  qc = Uf + Vf.inverse()\n"
     ]
    },
    {
     "data": {
      "text/html": [
       "<pre style=\"word-wrap: normal;white-space: pre;background: #fff0;line-height: 1.1;font-family: &quot;Courier New&quot;,Courier,monospace\">                             \n",
       "  input: ───────■────■────■──\n",
       "         ┌───┐┌─┴─┐┌─┴─┐  │  \n",
       " output: ┤ X ├┤ X ├┤ X ├──┼──\n",
       "         └───┘└───┘└───┘┌─┴─┐\n",
       "garbage: ───────────────┤ X ├\n",
       "                        └───┘</pre>"
      ],
      "text/plain": [
       "                             \n",
       "  input: ───────■────■────■──\n",
       "         ┌───┐┌─┴─┐┌─┴─┐  │  \n",
       " output: ┤ X ├┤ X ├┤ X ├──┼──\n",
       "         └───┘└───┘└───┘┌─┴─┐\n",
       "garbage: ───────────────┤ X ├\n",
       "                        └───┘"
      ]
     },
     "execution_count": 13,
     "metadata": {},
     "output_type": "execute_result"
    }
   ],
   "source": [
    "qc = Uf + Vf.inverse()\n",
    "qc.draw()"
   ]
  },
  {
   "cell_type": "code",
   "execution_count": 14,
   "id": "eight-freeware",
   "metadata": {},
   "outputs": [
    {
     "data": {
      "text/html": [
       "<pre style=\"word-wrap: normal;white-space: pre;background: #fff0;line-height: 1.1;font-family: &quot;Courier New&quot;,Courier,monospace\">                   \n",
       "      output: ──■──\n",
       "              ┌─┴─┐\n",
       "final-output: ┤ X ├\n",
       "              └───┘</pre>"
      ],
      "text/plain": [
       "                   \n",
       "      output: ──■──\n",
       "              ┌─┴─┐\n",
       "final-output: ┤ X ├\n",
       "              └───┘"
      ]
     },
     "execution_count": 14,
     "metadata": {},
     "output_type": "execute_result"
    }
   ],
   "source": [
    "final_output_bit = QuantumRegister(1, 'final-output')\n",
    "\n",
    "copy = QuantumCircuit(output_bit, final_output_bit)\n",
    "copy.cx(output_bit, final_output_bit)\n",
    "\n",
    "copy.draw()"
   ]
  },
  {
   "cell_type": "code",
   "execution_count": 15,
   "id": "mature-tenant",
   "metadata": {},
   "outputs": [
    {
     "name": "stderr",
     "output_type": "stream",
     "text": [
      "<ipython-input-15-0b57af900a8f>:1: DeprecationWarning: The QuantumCircuit.__add__() method is being deprecated.Use the compose() method which is more flexible w.r.t circuit register compatibility.\n",
      "  (Vf+copy+Vf.inverse()).draw()\n"
     ]
    },
    {
     "data": {
      "text/html": [
       "<pre style=\"word-wrap: normal;white-space: pre;background: #fff0;line-height: 1.1;font-family: &quot;Courier New&quot;,Courier,monospace\">                                       \n",
       "       input: ──■────■─────────■────■──\n",
       "                │  ┌─┴─┐     ┌─┴─┐  │  \n",
       "      output: ──┼──┤ X ├──■──┤ X ├──┼──\n",
       "              ┌─┴─┐└───┘  │  └───┘┌─┴─┐\n",
       "     garbage: ┤ X ├───────┼───────┤ X ├\n",
       "              └───┘     ┌─┴─┐     └───┘\n",
       "final-output: ──────────┤ X ├──────────\n",
       "                        └───┘          </pre>"
      ],
      "text/plain": [
       "                                       \n",
       "       input: ──■────■─────────■────■──\n",
       "                │  ┌─┴─┐     ┌─┴─┐  │  \n",
       "      output: ──┼──┤ X ├──■──┤ X ├──┼──\n",
       "              ┌─┴─┐└───┘  │  └───┘┌─┴─┐\n",
       "     garbage: ┤ X ├───────┼───────┤ X ├\n",
       "              └───┘     ┌─┴─┐     └───┘\n",
       "final-output: ──────────┤ X ├──────────\n",
       "                        └───┘          "
      ]
     },
     "execution_count": 15,
     "metadata": {},
     "output_type": "execute_result"
    }
   ],
   "source": [
    "(Vf+copy+Vf.inverse()).draw()"
   ]
  },
  {
   "cell_type": "code",
   "execution_count": null,
   "id": "connected-tours",
   "metadata": {},
   "outputs": [],
   "source": []
  }
 ],
 "metadata": {
  "kernelspec": {
   "display_name": "Python 3",
   "language": "python",
   "name": "python3"
  },
  "language_info": {
   "codemirror_mode": {
    "name": "ipython",
    "version": 3
   },
   "file_extension": ".py",
   "mimetype": "text/x-python",
   "name": "python",
   "nbconvert_exporter": "python",
   "pygments_lexer": "ipython3",
   "version": "3.9.2"
  }
 },
 "nbformat": 4,
 "nbformat_minor": 5
}
