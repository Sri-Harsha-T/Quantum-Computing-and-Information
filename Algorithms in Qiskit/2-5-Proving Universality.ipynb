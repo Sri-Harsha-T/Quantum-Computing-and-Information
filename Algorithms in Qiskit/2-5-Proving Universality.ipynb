{
 "cells": [
  {
   "cell_type": "code",
   "execution_count": 1,
   "id": "hidden-seller",
   "metadata": {},
   "outputs": [],
   "source": [
    "from qiskit import QuantumCircuit\n",
    "from qiskit.circuit import Gate\n",
    "from math import pi\n",
    "\n"
   ]
  },
  {
   "cell_type": "code",
   "execution_count": 2,
   "id": "advisory-nowhere",
   "metadata": {},
   "outputs": [
    {
     "data": {
      "text/html": [
       "<pre style=\"word-wrap: normal;white-space: pre;background: #fff0;line-height: 1.1;font-family: &quot;Courier New&quot;,Courier,monospace\">     \n",
       "q_0: \n",
       "     \n",
       "q_1: \n",
       "     \n",
       "q_2: \n",
       "     </pre>"
      ],
      "text/plain": [
       "     \n",
       "q_0: \n",
       "     \n",
       "q_1: \n",
       "     \n",
       "q_2: \n",
       "     "
      ]
     },
     "execution_count": 2,
     "metadata": {},
     "output_type": "execute_result"
    }
   ],
   "source": [
    "qc = QuantumCircuit(3)\n",
    "a = 0\n",
    "b = 1\n",
    "t = 2\n",
    "theta = pi\n",
    "# Toffoli with control qubits a and b and target t\n",
    "# qc.ccx(a,b,t)\n",
    "qc.draw()"
   ]
  },
  {
   "cell_type": "code",
   "execution_count": 3,
   "id": "upper-pathology",
   "metadata": {},
   "outputs": [
    {
     "data": {
      "text/html": [
       "<pre style=\"word-wrap: normal;white-space: pre;background: #fff0;line-height: 1.1;font-family: &quot;Courier New&quot;,Courier,monospace\">               ┌───────┐          \n",
       "q_0: ──■────■──┤ Rx(π) ├──■────■──\n",
       "       │  ┌─┴─┐└───────┘┌─┴─┐  │  \n",
       "q_1: ──┼──┤ X ├─────────┤ X ├──┼──\n",
       "     ┌─┴─┐└───┘         └───┘┌─┴─┐\n",
       "q_2: ┤ X ├───────────────────┤ X ├\n",
       "     └───┘                   └───┘</pre>"
      ],
      "text/plain": [
       "               ┌───────┐          \n",
       "q_0: ──■────■──┤ Rx(π) ├──■────■──\n",
       "       │  ┌─┴─┐└───────┘┌─┴─┐  │  \n",
       "q_1: ──┼──┤ X ├─────────┤ X ├──┼──\n",
       "     ┌─┴─┐└───┘         └───┘┌─┴─┐\n",
       "q_2: ┤ X ├───────────────────┤ X ├\n",
       "     └───┘                   └───┘"
      ]
     },
     "execution_count": 3,
     "metadata": {},
     "output_type": "execute_result"
    }
   ],
   "source": [
    "qc.cx(0,2)\n",
    "qc.cx(0,1)\n",
    "qc.rx(theta, 0)\n",
    "qc.cx(0,1)\n",
    "qc.cx(0,2)\n",
    "qc.draw()"
   ]
  },
  {
   "cell_type": "code",
   "execution_count": 6,
   "id": "sapphire-lodge",
   "metadata": {},
   "outputs": [
    {
     "data": {
      "text/html": [
       "<pre style=\"word-wrap: normal;white-space: pre;background: #fff0;line-height: 1.1;font-family: &quot;Courier New&quot;,Courier,monospace\">     ┌───┐          ┌───────┐          ┌───┐\n",
       "q_0: ┤ H ├──■────■──┤ Rx(π) ├──■────■──┤ H ├\n",
       "     ├───┤  │  ┌─┴─┐└───────┘┌─┴─┐  │  ├───┤\n",
       "q_1: ┤ H ├──┼──┤ X ├─────────┤ X ├──┼──┤ H ├\n",
       "     ├───┤┌─┴─┐└───┘         └───┘┌─┴─┐├───┤\n",
       "q_2: ┤ H ├┤ X ├───────────────────┤ X ├┤ H ├\n",
       "     └───┘└───┘                   └───┘└───┘</pre>"
      ],
      "text/plain": [
       "     ┌───┐          ┌───────┐          ┌───┐\n",
       "q_0: ┤ H ├──■────■──┤ Rx(π) ├──■────■──┤ H ├\n",
       "     ├───┤  │  ┌─┴─┐└───────┘┌─┴─┐  │  ├───┤\n",
       "q_1: ┤ H ├──┼──┤ X ├─────────┤ X ├──┼──┤ H ├\n",
       "     ├───┤┌─┴─┐└───┘         └───┘┌─┴─┐├───┤\n",
       "q_2: ┤ H ├┤ X ├───────────────────┤ X ├┤ H ├\n",
       "     └───┘└───┘                   └───┘└───┘"
      ]
     },
     "execution_count": 6,
     "metadata": {},
     "output_type": "execute_result"
    }
   ],
   "source": [
    "qc = QuantumCircuit(3)\n",
    "qc.h(0)\n",
    "qc.h(1)\n",
    "qc.h(2)\n",
    "qc.cx(0,2)\n",
    "qc.cx(0,1)\n",
    "qc.rx(theta,0)\n",
    "qc.cx(0,1)\n",
    "qc.cx(0,2)\n",
    "qc.h(2)\n",
    "qc.h(1)\n",
    "qc.h(0)\n",
    "qc.draw()"
   ]
  },
  {
   "cell_type": "code",
   "execution_count": null,
   "id": "unknown-equation",
   "metadata": {},
   "outputs": [],
   "source": []
  }
 ],
 "metadata": {
  "kernelspec": {
   "display_name": "Python 3",
   "language": "python",
   "name": "python3"
  },
  "language_info": {
   "codemirror_mode": {
    "name": "ipython",
    "version": 3
   },
   "file_extension": ".py",
   "mimetype": "text/x-python",
   "name": "python",
   "nbconvert_exporter": "python",
   "pygments_lexer": "ipython3",
   "version": "3.9.2"
  }
 },
 "nbformat": 4,
 "nbformat_minor": 5
}
